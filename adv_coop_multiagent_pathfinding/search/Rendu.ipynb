{
 "cells": [
  {
   "cell_type": "code",
   "execution_count": 7,
   "metadata": {},
   "outputs": [],
   "source": [
    "import numpy as np\n",
    "import matplotlib.pyplot as plt"
   ]
  },
  {
   "cell_type": "markdown",
   "metadata": {},
   "source": [
    "<h1>Rendu</h1>\n",
    "    <br/>\n",
    "<p>Ce fichier contiendra en partie, les résultats obtenus par chaque équipe s'affrontant avec différentes stratégies.</p>\n",
    "<br/>\n",
    "<p>Nous avons implémenté 3 stratégies différentes :<br/>\n",
    "    <ol>\n",
    "        <li>À chaque tour le joueur recalcul le plus court chemin vers son objectif en utilisant l'algorithme A*. Il prend en compte le positionnement actuel de tous les autres joueurs sur la map et les considère comme un obstacle le temps de construire son chemin. Nous appellerons cette stratégie la <b>stratégie 1</b>.</li>\n",
    "        <li>Initialement chaque joueur à un plus court chemin vers son objectif grâce à A*, et ne remplace ce dernier que s'il y a collision avec un autre joueur:<br/>\n",
    "            <ul>\n",
    "                <li>Le joueur peut attendre 1 tour sur place si prendre un autre chemin le rallonge.</li>\n",
    "                <li>Le joueur a déjà attendu 1 tour et est toujours bloqué.</li>\n",
    "                <li>Un coéquipier a atteint son objectif qui se trouve être sur le chemin du joueur. Le coéquipier ne bougera plus il faut donc changer au plus vite le chemin du joueur.</li>\n",
    "                <li>Quelques exceptions subsistent afin de prévenir d'un blocage complet, de bugs ou d'une erreur d'indentation (e.g le joueur peut attendre plus d'un tour sur place si cela est nécessaire pour le bon fonctionnement du jeu).</li>\n",
    "            </ul>\n",
    "            Nous appellerons cette stratégie la <b>stratégie 2</b>.</li> <br/>\n",
    "        <li> La <b>stratégie 3</b> consiste en l'utilisation de l'algorithme du MinMax : <br/> \n",
    "            <ul>\n",
    "                <li>À chaque tour de jeu, l'équipe qui joue va examiner toutes ses possibilitées de coup, et appeler MinMax récursivement pour générer tous les coups possibles de l'adversaire pour chacun de ses coups initiaux.</li> \n",
    "                <li>L'algorithme continue ainsi jusqu'à une profondeur donnée à laquelle il s'arrête, et évalue tous les positions trouvées. Pour évaluer une position, on prend la somme des déplacements nécessaires pour chacun des joueurs de l'Equipe 1, calculés grâce à A*, à laquelle on soustrait la somme des déplacements calculés à l'aide de A* de l'Equipe 2.</li>\n",
    "                <li>On remonte ensuite l'arbre crée en choisissant toujours le meilleur coup possible pour une equipe (i.e Une equipe cherche à maximiser le score, et l'autre à le minimiser). Et on obtient le meilleur coup possible pour cette profondeur, et partant du principe que l'adversaire choisis également le meilleur coup possible pour lui.   </li></ul>\n",
    "        <li>Enfin, la dernière stratégie, que nous appellerons la <b>stratégie 4</b>, est une cousine de la stratégie 2. Nous entendons par là qu'il n'y a que quelques changements d'écart entre ces deux stratégies. Nous l'avons implémenter dans le but d'avoir trois stratégies que nous pouvions faire s'affronter en sachant que cela n'était pas possible avec la stratégie 3 (MinMax) car son exécution est trop longue.<br/>Cette stratégie donc, autorise un tour de plus où le joueur peut attendre sur place et considère les objectifs des coéquipiers comme étant des obstacles dans le but de ne pas les gêner prêt de la ligne d'arrivée.</li>\n",
    "    </ol>\n",
    "A savoir aussi que nous appellerons, <b>Equipe 1</b>, l'équipe qui part du haut de la grille et se dirige vers le bas où se trouvent ses objectifs, et inversement, <b>Equipe 2</b>, l'équipe qui part du bas de la grille et se dirige vers le haut.\n",
    "</p>"
   ]
  },
  {
   "cell_type": "markdown",
   "metadata": {},
   "source": [
    "<p>Les stratégies sont implémentés dans la fonction <i>main( )</i> du fichier <u>main.py</u> .<br/>\n",
    "Les données que nous allons vous présenter sont les scores que chaque équipe arrive à faire face à son adversaire. Le score est la somme du nombre de tour total qu'à mis chaque joueur d'une équipe à atteindre son objectif.<br/>\n",
    "    De façon peu conventionnelle, nous chercherons donc à <b>minimiser ce score</b>.\n",
    "    <br/>\n",
    "    Nous allons maintenant vous montrez les données obtenues en faisant s'affronter les deux équipes avec toutes les combinaisons possibles.\n",
    "</p>"
   ]
  },
  {
   "cell_type": "markdown",
   "metadata": {},
   "source": [
    "<h2>Gain : nb victoire</h2>\n",
    "<table>\n",
    "    <tr>\n",
    "        <th>E1 commence/E2</th>\n",
    "        <th>Strat1</th>\n",
    "        <th>Strat2</th>\n",
    "        <th>Strat4</th>\n",
    "    </tr>\n",
    "    <tr>\n",
    "        <th>Strat1</th>\n",
    "        <td>(43, 42)</td>\n",
    "        <td>(25, 75)</td>\n",
    "        <td>(47, 53)</td>\n",
    "    </tr>\n",
    "    <tr>\n",
    "        <th>Strat2</th>\n",
    "        <td>(73, 24)</td>\n",
    "        <td>(69, 29)</td>\n",
    "        <td>(25, 73)</td>\n",
    "    </tr>\n",
    "    <tr>\n",
    "        <th>Strat4</th>\n",
    "        <td>(57, 37)</td>\n",
    "        <td>(72, 28)</td>\n",
    "        <td>(76, 23)</td>\n",
    "    </tr>\n",
    "</table><br/>\n",
    "<table>\n",
    "    <tr>\n",
    "        <th>E1/E2 commence</th>\n",
    "        <th>Strat1</th>\n",
    "        <th>Strat2</th>\n",
    "        <th>Strat4</th>\n",
    "    </tr>\n",
    "    <tr>\n",
    "        <th>Strat1</th>\n",
    "        <td>(38, 55)</td>\n",
    "        <td>(43, 55)</td>\n",
    "        <td>(22, 77)</td>\n",
    "    </tr>\n",
    "    <tr>\n",
    "        <th>Strat2</th>\n",
    "        <td>(78, 22)</td>\n",
    "        <td>(51, 49)</td>\n",
    "        <td>(52, 46)</td>\n",
    "    </tr>\n",
    "    <tr>\n",
    "        <th>Strat4</th>\n",
    "        <td>(78, 21)</td>\n",
    "        <td>(73, 25)</td>\n",
    "        <td>(59, 36)</td>\n",
    "    </tr>\n",
    "</table>"
   ]
  },
  {
   "cell_type": "markdown",
   "metadata": {},
   "source": [
    "<h2>Gain : score moyen (minimal visé)</h2>\n",
    "<table>\n",
    "    <tr>\n",
    "        <th>E1 commence/E2</th>\n",
    "        <th>Strat1</th>\n",
    "        <th>Strat2</th>\n",
    "        <th>Strat3</th>\n",
    "    </tr>\n",
    "    <tr>\n",
    "        <th>Strat1</th>\n",
    "        <td>(83.6, 85.5)</td>\n",
    "        <td>(88.6, 82)</td>\n",
    "        <td>(90, 87.9)</td>\n",
    "    </tr>\n",
    "    <tr>\n",
    "        <th>Strat2</th>\n",
    "        <td>(77.3, 87.2)</td>\n",
    "        <td>(81.5, 91.9)</td>\n",
    "        <td>(87.7, 80.2)</td>\n",
    "    </tr>\n",
    "    <tr>\n",
    "        <th>Strat4</th>\n",
    "        <td>(78.5, 82.6)</td>\n",
    "        <td>(80.3, 92)</td>\n",
    "        <td>(83.2, 91.3)</td>\n",
    "    </tr>\n",
    "</table><br/>\n",
    "<table>\n",
    "    <tr>\n",
    "        <th>E1/E2 commence</th>\n",
    "        <th>Strat1</th>\n",
    "        <th>Strat2</th>\n",
    "        <th>Strat3</th>\n",
    "    </tr>\n",
    "    <tr>\n",
    "        <th>Strat1</th>\n",
    "        <td>(83.1, 84.9)</td>\n",
    "        <td>(87.9, 85.1)</td>\n",
    "        <td>(87.8, 81.3)</td>\n",
    "    </tr>\n",
    "    <tr>\n",
    "        <th>Strat2</th>\n",
    "        <td>(76.7, 86.3)</td>\n",
    "        <td>(85.5, 85.6)</td>\n",
    "        <td>(86.9, 86.6)</td>\n",
    "    </tr>\n",
    "    <tr>\n",
    "        <th>Strat4</th>\n",
    "        <td>(76.5, 91.3)</td>\n",
    "        <td>(80.2, 91)</td>\n",
    "        <td>(81.8, 84.7)</td>\n",
    "    </tr>\n",
    "</table>"
   ]
  },
  {
   "cell_type": "markdown",
   "metadata": {},
   "source": [
    "<h2>Situations intéressantes</h2>\n",
    "<ul>\n",
    "<li>\n",
    "    La stratégie 1 peut faire faire beaucoup à ses joueurs. Le choix a été fait de ne rien faire pour arranger cela. On peut s'imaginer qu'il s'agit d'affronter une ia de niveau facile ici.<br/>Le cas le plus marquant est lorsque l'équipe 2 (en bas) utilise la stratégie 1 : en arrivant près de leur objectif, les joueurs se retrouvent souvent à se gêner et à faire des détours.</li>\n",
    "<li>\n",
    "    En utilisant la stratégie 2, il peut arriver qu'un joueur se retrouve bloqué entre un adversaire et un coéquipier. Lorsque cela arrive et qu'il a déjà attendu un tour sur place, il doit recalculer un chemin. Ce chemin n'existe pas car le joueur ne peut pas passer par dessus d'autres joueurs.<br/>Nous avons donc décrit le comportement que doit avoir le joueur dans certains cas particuliers : que faire lorsque je calcule un nouveau path de longueur 1 ou 2 et que ce n'est pas là où est mon objectif ? que faire lorsque je suis à une case de mon objectif mais qu'un joueur est dessus ?</li>\n",
    "<li>\n",
    "    Enfin, en utilisant la stratégie 4, il peut arriver qu'un joueur soit bloqué très tôt dans la partie. En effet, nous considérons ici les objectifs des coéquipiers comme des obstacles et il arrive régulièrement qu'un joueur ait un path incohérent (qui ne mène pas à son objectif) tôt dans la partie. Pour répondre à cette situation nous vérifions que les joueurs utilisant la stratégie 4 aient un path se terminant par leur objectif. Dans le cas contraire le joueur essaye de trouver un path sans considérer les objectifs comme des obstacles. Si le path n'est toujours pas cohérent après ça alors le joueur attend sur place jusqu'à ce qu'il trouve un path convenable.</li>\n",
    "</ul>"
   ]
  },
  {
   "cell_type": "markdown",
   "metadata": {},
   "source": [
    "<p>Tout d'abord, une petite fonction qui nous servira à comptabiliser le nombre de victoires de chaque équipe dans chaque scénario.</p>"
   ]
  },
  {
   "cell_type": "code",
   "execution_count": 9,
   "metadata": {},
   "outputs": [],
   "source": [
    "def nbPartiesGagnees(m1, m2):\n",
    "    victoiresE1 = 0\n",
    "    victoiresE2 = 0\n",
    "    for i in range(len(m1)):\n",
    "        if m1[i] < m2[i]:\n",
    "            victoiresE1 += 1\n",
    "        elif m2[i] < m1[i]:\n",
    "            victoiresE2 += 1\n",
    "    return victoiresE1, victoiresE2"
   ]
  },
  {
   "cell_type": "markdown",
   "metadata": {},
   "source": [
    "<p>La premières choses que l'on remarque avant même de faire s'affronter les équipes est ceci :<br/>\n",
    "    <ul>\n",
    "        <li>L'équipe 1 a plus de liberté pour se mouvoir autour de ses objectifs situées en bas de la carte.</li>\n",
    "    </ul>\n",
    "    Nous essaierons de démontrer que cela a un impact sur les résultat malgré la stratégie choisie.\n",
    "    <br/>\n",
    "    Aussi nous souhaitons étudier l'impact de commencer ou non la partie\n",
    "</p>\n"
   ]
  },
  {
   "cell_type": "markdown",
   "metadata": {},
   "source": [
    "<h2>Séquence 1</h2>\n",
    "<h3>Stratégie 1 VS Stratégie 1</h3>\n",
    "<h3>Equipe 1 commence</h3>\n",
    "<p>Echantillon de 100 parties</p>"
   ]
  },
  {
   "cell_type": "code",
   "execution_count": 3,
   "metadata": {},
   "outputs": [
    {
     "name": "stdout",
     "output_type": "stream",
     "text": [
      "Moyenne Equipe 1 :  83.6\n",
      "Moyenne Equipe 2 :  85.46\n",
      "Nombre de victoires de l'Equipe 1 :  43\n",
      "Nombre de victoires de l'Equipe 2 :  42\n"
     ]
    }
   ],
   "source": [
    "#Total sur  100  parties pour l'Equipe 1 :\n",
    "e1s1VSs1b = np.array(([88, 76, 74, 80, 78, 98, 74, 90, 98, 90, 98, 74, 78, 80, 76, 88, 90, 80, 86, 102, 74, 86, \n",
    "                       78, 74, 74, 74, 78, 90, 76, 74, 74, 92, 86, 88, 88, 78, 86, 78, 90, 78, 92, 78, 80, 88, \n",
    "                       80, 90, 88, 86, 74, 80, 90, 84, 98, 74, 86, 102, 90, 78, 74, 88, 98, 74, 98, 74, 88, 80, \n",
    "                       90, 78, 74, 90, 74, 86, 78, 74, 78, 74, 78, 78, 78, 88, 88, 88, 86, 92, 90, 86, 80, 92, \n",
    "                       90, 84, 88, 88, 86, 78, 98, 86, 78, 80, 80, 78]))\n",
    "print(\"Moyenne Equipe 1 : \", e1s1VSs1b.mean())\n",
    "\n",
    "\n",
    "#Total sur  100  parties pour l'Equipe 2 :\n",
    "e2s1VSs1f = np.array(([82, 102, 82, 80, 78, 100, 82, 84, 78, 90, 78, 80, 74, 90, 102, 82, 90, 74, 94, 72, 82, 94, \n",
    "                       74, 94, 94, 96, 100, 90, 102, 80, 80, 90, 94, 82, 84, 78, 94, 74, 74, 78, 80, 84, 90, 84, \n",
    "                       80, 88, 84, 76, 96, 90, 74, 84, 100, 96, 94, 72, 74, 78, 96, 84, 100, 96, 78, 94, 82, 74, \n",
    "                       122, 74, 82, 90, 80, 94, 100, 80, 88, 82, 74, 78, 76, 82, 84, 84, 94, 90, 90, 94, 74, 90, \n",
    "                       74, 84, 80, 84, 94, 76, 78, 76, 100, 90, 74, 78]))\n",
    "print(\"Moyenne Equipe 2 : \", e2s1VSs1f.mean())\n",
    "\n",
    "v1, v2 = nbPartiesGagnees(e1s1VSs1b, e2s1VSs1f)\n",
    "print(\"Nombre de victoires de l'Equipe 1 : \", v1)\n",
    "print(\"Nombre de victoires de l'Equipe 2 : \", v2)"
   ]
  },
  {
   "cell_type": "markdown",
   "metadata": {},
   "source": [
    "<h3>Stratégie 1 VS Stratégie 1</h3>\n",
    "<h3>Equipe 2 commence</h3>\n",
    "<p>Echantillon de 100 parties</p>"
   ]
  },
  {
   "cell_type": "code",
   "execution_count": 4,
   "metadata": {},
   "outputs": [
    {
     "name": "stdout",
     "output_type": "stream",
     "text": [
      "Moyenne Equipe 1 :  83.08\n",
      "Moyenne Equipe 2 :  84.9\n",
      "Nombre de victoires de l'Equipe 1 :  38\n",
      "Nombre de victoires de l'Equipe 2 :  55\n"
     ]
    }
   ],
   "source": [
    "#Total sur  100  parties pour l'Equipe 1 :  \n",
    "e1s1VSs1f = np.array(([90, 84, 78, 84, 82, 90, 92, 90, 92, 96, 82, 78, 80, 82, 74, 80, 82, 74, 96, 80, 96, \n",
    "                       96, 90, 80, 84, 82, 82, 80, 78, 78, 76, 86, 80, 82, 88, 84, 74, 96, 84, 80, 78, 90, \n",
    "                       90, 90, 90, 88, 92, 74, 78, 82, 82, 80, 82, 80, 84, 88, 74, 74, 90, 82, 78, 78, 78, \n",
    "                       88, 76, 80, 80, 84, 80, 74, 78, 84, 84, 86, 80, 78, 76, 84, 86, 78, 78, 88, 80, 80, \n",
    "                       78, 92, 76, 86, 82, 86, 96, 74, 90, 82, 92, 86, 74, 96, 76, 76]))\n",
    "print(\"Moyenne Equipe 1 : \", e1s1VSs1f.mean())\n",
    "\n",
    "#Total sur  100  parties pour l'Equipe 2 :\n",
    "e2s1VSs1b = np.array(([90, 80, 76, 80, 76, 74, 90, 106, 90, 84, 76, 78, 90, 92, 94, 78, 92, 84, 90, 74, 90, \n",
    "                       84, 90, 78, 80, 76, 76, 90, 78, 76, 102, 78, 74, 76, 80, 80, 84, 90, 80, 82, 96, 74, \n",
    "                       106, 90, 90, 80, 80, 84, 76, 76, 92, 90, 92, 74, 80, 80, 94, 76, 116, 76, 76, 78, 76, \n",
    "                       80, 102, 90, 90, 114, 90, 76, 74, 114, 80, 78, 74, 76, 96, 80, 88, 74, 74, 80, 78, 82, \n",
    "                       74, 90, 96, 88, 76, 94, 84, 78, 80, 92, 90, 88, 92, 90, 102, 96]))\n",
    "print(\"Moyenne Equipe 2 : \", e2s1VSs1b.mean())\n",
    "\n",
    "v1, v2 = nbPartiesGagnees(e1s1VSs1f, e2s1VSs1b)\n",
    "print(\"Nombre de victoires de l'Equipe 1 : \", v1)\n",
    "print(\"Nombre de victoires de l'Equipe 2 : \", v2)"
   ]
  },
  {
   "cell_type": "markdown",
   "metadata": {},
   "source": [
    "<h3>Conclusion / Remarques</h3>\n",
    "<p>\n",
    "Ici, avec la même stratégie, l'équipe qui commence a plus de chance de gagner. On remarque quand même que la différence est plus grande lorsque l'équipe 2 commence, on pourrait en déduire que commencer en bas est un avantage avec cette stratégie.<br/>\n",
    "Petit point amusant : l'équipe 2 gagne plus que l'équipe 1 même si sa moyenne est plus haute.\n",
    "</p>"
   ]
  },
  {
   "cell_type": "markdown",
   "metadata": {},
   "source": [
    "<h2>Séquence 2</h2>\n",
    "<h3>Stratégie 1 VS Stratégie 2</h3>\n",
    "<h3>Equipe 1 (stratégie 1) commence</h3>\n",
    "<p>Echantillon de 100 parties</p>"
   ]
  },
  {
   "cell_type": "code",
   "execution_count": 6,
   "metadata": {},
   "outputs": [
    {
     "name": "stdout",
     "output_type": "stream",
     "text": [
      "Moyenne Equipe 1 :  88.62\n",
      "Moyenne Equipe 2 :  82.04\n",
      "Nombre de victoires de l'Equipe 1 :  25\n",
      "Nombre de victoires de l'Equipe 2 :  75\n"
     ]
    }
   ],
   "source": [
    "#Total sur  100  parties pour l'Equipe 1 :  \n",
    "e1s1VSs2b = np.array(([86, 86, 82, 82, 98, 80, 94, 92, 80, 92, 92, 90, 80, 94, 98, 92, 80, 86, 98, 84, 96, 92, \n",
    "                       86, 86, 80, 94, 96, 80, 86, 80, 94, 90, 80, 98, 80, 86, 80, 86, 82, 80, 98, 96, 82, 84, \n",
    "                       96, 90, 80, 90, 92, 80, 80, 90, 80, 96, 86, 80, 88, 90, 98, 82, 98, 94, 94, 86, 84, 82, \n",
    "                       80, 98, 86, 82, 86, 98, 98, 84, 104, 90, 84, 90, 86, 80, 90, 98, 82, 86, 90, 90, 88, 96, \n",
    "                       80, 98, 94, 94, 86, 98, 98, 86, 98, 92, 86, 92]))\n",
    "print(\"Moyenne Equipe 1 : \", e1s1VSs2b.mean())\n",
    "\n",
    "#Total sur  100  parties pour l'Equipe 2 :\n",
    "e2s2VSs1f = np.array(([85, 75, 79, 79, 107, 75, 68, 75, 85, 80, 80, 85, 75, 68, 90, 89, 95, 89, 89, 68, 68, 75, \n",
    "                       85, 85, 75, 80, 80, 95, 89, 95, 68, 68, 85, 75, 85, 75, 85, 85, 79, 95, 75, 80, 85, 68, \n",
    "                       68, 85, 85, 85, 80, 85, 85, 68, 75, 80, 75, 75, 80, 95, 89, 79, 90, 80, 68, 89, 79, 75, \n",
    "                       75, 89, 85, 79, 75, 89, 107, 68, 90, 89, 68, 68, 89, 95, 85, 89, 75, 89, 95, 85, 80, 80, \n",
    "                       75, 90, 80, 68, 95, 107, 107, 68, 75, 89, 85, 80]))\n",
    "print(\"Moyenne Equipe 2 : \", e2s2VSs1f.mean()) \n",
    "\n",
    "v1, v2 = nbPartiesGagnees(e1s1VSs2b, e2s2VSs1f)\n",
    "print(\"Nombre de victoires de l'Equipe 1 : \", v1)\n",
    "print(\"Nombre de victoires de l'Equipe 2 : \", v2)"
   ]
  },
  {
   "cell_type": "markdown",
   "metadata": {},
   "source": [
    "<h3>Stratégie 1 VS Stratégie 2</h3>\n",
    "<h3>Equipe 2 (stratégie 2) commence</h3>\n",
    "<p>Echantillon de 100 parties</p>"
   ]
  },
  {
   "cell_type": "code",
   "execution_count": 8,
   "metadata": {
    "scrolled": true
   },
   "outputs": [
    {
     "name": "stdout",
     "output_type": "stream",
     "text": [
      "Moyenne Equipe 1 :  87.88\n",
      "Moyenne Equipe 2 :  85.05\n",
      "Nombre de victoires de l'Equipe 1 :  43\n",
      "Nombre de victoires de l'Equipe 2 :  55\n"
     ]
    }
   ],
   "source": [
    "#Total sur  100  parties pour l'Equipe 1 :  \n",
    "e1s1VSs2f = np.array(([80, 96, 104, 82, 82, 97, 90, 84, 92, 82, 104, 78, 91, 80, 94, 92, 92, 86, 96, 86, 80, \n",
    "                       96, 84, 82, 104, 80, 82, 80, 91, 84, 82, 92, 86, 88, 86, 82, 96, 80, 92, 105, 94, 86, \n",
    "                       82, 88, 80, 97, 82, 86, 104, 92, 94, 80, 92, 91, 92, 96, 105, 86, 105, 78, 90, 104, 82, \n",
    "                       86, 80, 90, 97, 82, 82, 86, 92, 90, 82, 82, 78, 80, 82, 105, 84, 82, 80, 80, 80, 82, 80, \n",
    "                       94, 82, 80, 104, 80, 84, 84, 80, 86, 82, 86, 82, 96, 86, 94]))\n",
    "print(\"Moyenne Equipe 1 : \", e1s1VSs2f.mean())\n",
    "\n",
    "#Total sur  100  parties pour l'Equipe 2 :\n",
    "e2s2VSs1b = np.array(([95, 90, 85, 68, 68, 100, 90, 90, 95, 95, 85, 80, 100, 95, 75, 85, 95, 69, 68, 75, 95, \n",
    "                       90, 90, 68, 85, 95, 68, 95, 116, 90, 68, 80, 75, 68, 85, 80, 90, 75, 80, 116, 75, 69, \n",
    "                       95, 68, 75, 100, 80, 69, 95, 80, 75, 95, 75, 116, 80, 68, 116, 69, 116, 80, 80, 85, 80, \n",
    "                       95, 95, 90, 100, 68, 68, 75, 85, 80, 75, 68, 80, 95, 68, 116, 90, 68, 95, 85, 85, 95, 85, \n",
    "                       68, 75, 75, 85, 95, 90, 90, 95, 95, 80, 95, 95, 90, 95, 68]))\n",
    "print(\"Moyenne Equipe 2 : \", e2s2VSs1b.mean())\n",
    "\n",
    "v1, v2 = nbPartiesGagnees(e1s1VSs2f, e2s2VSs1b)\n",
    "print(\"Nombre de victoires de l'Equipe 1 : \", v1)\n",
    "print(\"Nombre de victoires de l'Equipe 2 : \", v2)"
   ]
  },
  {
   "cell_type": "markdown",
   "metadata": {},
   "source": [
    "<h3>Conclusion / Remarques</h3>\n",
    "<p>\n",
    "La stratégie 2 est clairement plus performante (en victoire). Cependant on remarque ici que l'équipe 2, bien que victorieuse dans tous les cas, préfère ne pas débuter.\n",
    "</p>"
   ]
  },
  {
   "cell_type": "markdown",
   "metadata": {},
   "source": [
    "<h3>Stratégie 2 VS Stratégie 1</h3>\n",
    "<h3>Equipe 1 (stratégie 2) commence</h3>\n",
    "<p>Echantillon de 100 parties</p>"
   ]
  },
  {
   "cell_type": "code",
   "execution_count": 10,
   "metadata": {},
   "outputs": [
    {
     "name": "stdout",
     "output_type": "stream",
     "text": [
      "Moyenne Equipe 1 :  77.27\n",
      "Moyenne Equipe 2 :  87.24\n",
      "Nombre de victoires de l'Equipe 1 :  73\n",
      "Nombre de victoires de l'Equipe 2 :  24\n"
     ]
    }
   ],
   "source": [
    "#Total sur  100  parties pour l'Equipe 1 :  \n",
    "e1s2VSs1b = np.array(([79, 75, 70, 80, 80, 71, 75, 82, 71, 86, 82, 86, 79, 82, 75, 71, 80, 75, 70, 75, 86, 82, \n",
    "                       82, 86, 70, 82, 82, 82, 71, 70, 75, 79, 86, 76, 82, 70, 86, 70, 80, 82, 86, 82, 70, 86, \n",
    "                       70, 70, 70, 70, 79, 75, 79, 70, 70, 75, 70, 82, 80, 71, 76, 79, 86, 76, 82, 86, 75, 70, \n",
    "                       70, 82, 79, 71, 79, 70, 79, 82, 82, 70, 82, 70, 79, 79, 76, 82, 70, 86, 79, 70, 79, 86, \n",
    "                       70, 79, 79, 70, 70, 82, 79, 82, 80, 70, 70, 86]))\n",
    "print(\"Moyenne Equipe 1 : \", e1s2VSs1b.mean())\n",
    "\n",
    "#Total sur  100  parties pour l'Equipe 2 :\n",
    "e2s1VSs2f = np.array(([76, 78, 90, 80, 98, 92, 78, 80, 84, 116, 78, 72, 92, 90, 86, 74, 80, 78, 78, 96, 90, 78, \n",
    "                       94, 90, 94, 94, 78, 100, 74, 76, 100, 92, 74, 80, 100, 76, 90, 76, 98, 78, 80, 80, 78, \n",
    "                       90, 90, 94, 100, 76, 92, 86, 118, 94, 90, 78, 92, 76, 98, 92, 80, 92, 72, 98, 90, 74, 78, \n",
    "                       92, 92, 94, 76, 74, 118, 76, 118, 78, 90, 94, 76, 92, 80, 118, 80, 78, 94, 72, 76, 90, 118, \n",
    "                       72, 100, 118, 76, 92, 100, 94, 76, 76, 80, 92, 76, 80]))\n",
    "print(\"Moyenne Equipe 2 : \", e2s1VSs2f.mean())\n",
    "\n",
    "v1, v2 = nbPartiesGagnees(e1s2VSs1b, e2s1VSs2f)\n",
    "print(\"Nombre de victoires de l'Equipe 1 : \", v1)\n",
    "print(\"Nombre de victoires de l'Equipe 2 : \", v2)"
   ]
  },
  {
   "cell_type": "markdown",
   "metadata": {},
   "source": [
    "<h3>Stratégie 2 VS Stratégie 1</h3>\n",
    "<h3>Equipe 2 (stratégie 1) commence</h3>\n",
    "<p>Echantillon de 100 parties</p>"
   ]
  },
  {
   "cell_type": "code",
   "execution_count": 11,
   "metadata": {},
   "outputs": [
    {
     "name": "stdout",
     "output_type": "stream",
     "text": [
      "Moyenne Equipe 1 :  76.67\n",
      "Moyenne Equipe 2 :  86.34\n",
      "Nombre de victoires de l'Equipe 1 :  78\n",
      "Nombre de victoires de l'Equipe 2 :  22\n"
     ]
    }
   ],
   "source": [
    "#Total sur  100  parties pour l'Equipe 1 :  \n",
    "e1s2VSs1f = np.array(([82, 70, 70, 70, 70, 79, 86, 86, 75, 70, 86, 70, 82, 82, 70, 75, 70, 79, 70, 84, 70, 70, \n",
    "                       83, 83, 82, 75, 70, 82, 79, 70, 70, 75, 70, 82, 83, 79, 82, 79, 79, 79, 70, 70, 70, 84, \n",
    "                       70, 83, 79, 86, 86, 82, 71, 75, 70, 79, 79, 70, 70, 70, 70, 75, 70, 75, 75, 82, 70, 84, \n",
    "                       75, 86, 83, 70, 79, 83, 79, 75, 70, 79, 86, 70, 70, 86, 71, 75, 70, 75, 83, 70, 79, 75, \n",
    "                       79, 79, 79, 86, 75, 75, 86, 79, 75, 79, 83, 70]))\n",
    "print(\"Moyenne Equipe 1 : \", e1s2VSs1f.mean())\n",
    "\n",
    "#Total sur  100  parties pour l'Equipe 2 :\n",
    "e2s1VSs2b = np.array(([94, 94, 76, 76, 76, 118, 76, 98, 100, 94, 74, 84, 94, 78, 92, 100, 94, 98, 94, 90, 76, \n",
    "                       92, 76, 80, 78, 84, 94, 78, 76, 92, 76, 92, 74, 78, 76, 76, 78, 82, 82, 94, 74, 78, 76, \n",
    "                       90, 74, 94, 98, 90, 80, 94, 88, 84, 94, 80, 118, 92, 94, 76, 78, 82, 78, 90, 102, 78, 76, \n",
    "                       90, 84, 112, 76, 76, 82, 76, 76, 82, 92, 98, 90, 84, 92, 76, 88, 82, 94, 100, 76, 74, 82, \n",
    "                       82, 94, 80, 76, 112, 102, 84, 76, 94, 102, 98, 76, 84]))\n",
    "print(\"Moyenne Equipe 2 : \", e2s1VSs2b.mean())\n",
    "\n",
    "v1, v2 = nbPartiesGagnees(e1s2VSs1f, e2s1VSs2b)\n",
    "print(\"Nombre de victoires de l'Equipe 1 : \", v1)\n",
    "print(\"Nombre de victoires de l'Equipe 2 : \", v2)"
   ]
  },
  {
   "cell_type": "markdown",
   "metadata": {},
   "source": [
    "<h3>Conclusion / Remarques</h3>\n",
    "<p>\n",
    "Avec l'équipe 1 appliquant la stratégie 2 en haut de la grille on a une claire domination de cette dernière : peu importe qui commence ici, la stratégie 1 est beaucoup plus faible.\n",
    "</p>"
   ]
  },
  {
   "cell_type": "markdown",
   "metadata": {},
   "source": [
    "<h2>Séquence 3</h2>\n",
    "<h3>Stratégie 2 VS Stratégie 2</h3>\n",
    "<h3>Equipe 1 commence</h3>\n",
    "<p>Echantillon de 100 parties</p>"
   ]
  },
  {
   "cell_type": "code",
   "execution_count": 12,
   "metadata": {},
   "outputs": [
    {
     "name": "stdout",
     "output_type": "stream",
     "text": [
      "Moyenne Equipe 1 :  81.49\n",
      "Moyenne Equipe 2 :  91.87\n",
      "Nombre de victoires de l'Equipe 1 :  69\n",
      "Nombre de victoires de l'Equipe 2 :  29\n"
     ]
    }
   ],
   "source": [
    "#Total sur  100  parties pour l'Equipe 1 :  \n",
    "e1s2VSs2b = np.array(([84, 82, 87, 87, 80, 93, 81, 81, 85, 83, 93, 86, 84, 80, 86, 83, 83, 83, 72, 93, 81, 87, \n",
    "                       93, 81, 86, 84, 80, 93, 73, 87, 81, 71, 72, 77, 72, 87, 81, 79, 82, 87, 83, 81, 72, 83, \n",
    "                       83, 83, 86, 83, 90, 84, 84, 81, 81, 83, 93, 72, 71, 72, 84, 72, 90, 80, 72, 72, 72, 81, \n",
    "                       71, 84, 87, 84, 80, 79, 79, 81, 83, 72, 83, 83, 84, 72, 84, 84, 83, 72, 87, 83, 79, 84, \n",
    "                       81, 72, 84, 72, 80, 81, 81, 83, 79, 85, 93, 72]))\n",
    "print(\"Moyenne Equipe 1 : \", e1s2VSs2b.mean())\n",
    "\n",
    "#Total sur  100  parties pour l'Equipe 2 :\n",
    "e2s2VSs2f = np.array(([114, 96, 108, 108, 81, 69, 110, 87, 103, 71, 69, 80, 78, 80, 80, 90, 71, 90, 107, 80, \n",
    "                       78, 105, 69, 97, 80, 114, 81, 69, 98, 108, 110, 79, 107, 90, 101, 105, 78, 89, 96, 88, \n",
    "                       71, 110, 96, 71, 80, 71, 80, 90, 69, 115, 114, 87, 110, 80, 80, 107, 79, 96, 114, 107, \n",
    "                       69, 80, 96, 101, 97, 110, 79, 114, 108, 114, 81, 107, 89, 87, 79, 97, 79, 90, 78, 96, \n",
    "                       115, 78, 90, 97, 88, 90, 107, 114, 78, 101, 115, 96, 81, 97, 110, 80, 89, 103, 69, 97]))\n",
    "print(\"Moyenne Equipe 2 : \", e2s2VSs2f.mean())\n",
    "\n",
    "v1, v2 = nbPartiesGagnees(e1s2VSs2b, e2s2VSs2f)\n",
    "print(\"Nombre de victoires de l'Equipe 1 : \", v1)\n",
    "print(\"Nombre de victoires de l'Equipe 2 : \", v2)"
   ]
  },
  {
   "cell_type": "markdown",
   "metadata": {},
   "source": [
    "<h3>Stratégie 2 VS Stratégie 2</h3>\n",
    "<h3>Equipe 2 commence</h3>\n",
    "<p>Echantillon de 100 parties</p>"
   ]
  },
  {
   "cell_type": "code",
   "execution_count": 13,
   "metadata": {},
   "outputs": [
    {
     "name": "stdout",
     "output_type": "stream",
     "text": [
      "Moyenne Equipe 1 :  85.47\n",
      "Moyenne Equipe 2 :  85.62\n",
      "Nombre de victoires de l'Equipe 1 :  51\n",
      "Nombre de victoires de l'Equipe 2 :  49\n"
     ]
    }
   ],
   "source": [
    "#Total sur  100  parties pour l'Equipe 1 :  \n",
    "e1s2VSs2f = np.array(([79, 74, 86, 95, 74, 91, 91, 77, 83, 88, 86, 76, 95, 80, 90, 74, 76, 76, 95, 74, 91, 76, \n",
    "                       81, 91, 93, 91, 76, 76, 80, 91, 98, 90, 95, 100, 82, 80, 88, 95, 82, 98, 88, 95, 91, 74, \n",
    "                       82, 98, 87, 83, 100, 98, 86, 74, 98, 83, 89, 79, 77, 93, 74, 82, 83, 91, 74, 74, 82, 74, \n",
    "                       86, 80, 80, 87, 91, 86, 77, 98, 74, 80, 74, 95, 98, 80, 87, 74, 91, 86, 100, 79, 93, 98, \n",
    "                       95, 81, 77, 86, 81, 93, 76, 76, 89, 90, 88, 98]))\n",
    "print(\"Moyenne Equipe 1 : \", e1s2VSs2f.mean())\n",
    "\n",
    "#Total sur  100  parties pour l'Equipe 2 :\n",
    "e2s2VSs2b = np.array(([83, 76, 104, 86, 76, 90, 90, 79, 99, 79, 104, 85, 86, 75, 72, 86, 85, 85, 96, 86, 90, 75, \n",
    "                       85, 96, 90, 90, 75, 85, 82, 96, 91, 72, 86, 89, 69, 96, 84, 86, 85, 77, 84, 86, 96, 76, \n",
    "                       69, 91, 79, 99, 89, 77, 104, 86, 77, 99, 83, 83, 79, 90, 76, 95, 99, 90, 76, 86, 69, 86, \n",
    "                       104, 96, 82, 77, 96, 104, 79, 77, 86, 75, 76, 86, 91, 75, 79, 86, 90, 104, 89, 83, 90, \n",
    "                       77, 86, 85, 79, 104, 85, 90, 85, 85, 83, 72, 84, 77]))\n",
    "print(\"Moyenne Equipe 2 : \", e2s2VSs2b.mean())\n",
    "\n",
    "v1, v2 = nbPartiesGagnees(e1s2VSs2f, e2s2VSs2b)\n",
    "print(\"Nombre de victoires de l'Equipe 1 : \", v1)\n",
    "print(\"Nombre de victoires de l'Equipe 2 : \", v2)"
   ]
  },
  {
   "cell_type": "markdown",
   "metadata": {},
   "source": [
    "<h3>Conclusion / Remarques</h3>\n",
    "<p>\n",
    "Lors du match miroir de la stratégie, on remarque que, plus que de débuter, c'est le fait d'être en haut de la carte qui lui donne un avantage.\n",
    "</p>"
   ]
  },
  {
   "cell_type": "markdown",
   "metadata": {},
   "source": [
    "<h2>Séquence 4</h2>\n",
    "<h3>Stratégie 4 VS Stratégie 4</h3>\n",
    "<h3>Equipe 1 commence</h3>\n",
    "<p>Echantillon de 100 parties</p>"
   ]
  },
  {
   "cell_type": "code",
   "execution_count": 10,
   "metadata": {},
   "outputs": [
    {
     "name": "stdout",
     "output_type": "stream",
     "text": [
      "Moyenne Equipe 1 :  83.16\n",
      "Moyenne Equipe 2 :  91.34\n",
      "Nombre de victoires de l'Equipe 1 :  76\n",
      "Nombre de victoires de l'Equipe 2 :  23\n"
     ]
    }
   ],
   "source": [
    "#Total sur  100  parties pour l'Equipe 1 :  \n",
    "e1s4VSs4b = np.array(([76, 84, 88, 84, 73, 76, 100, 84, 100, 86, 100, 73, 93, 96, 88, 78, 85, 88, 91, 84, 78, \n",
    "                       78, 80, 86, 80, 80, 78, 78, 80, 85, 80, 88, 85, 84, 88, 80, 72, 88, 80, 96, 80, 85, 86, \n",
    "                       84, 84, 84, 72, 100, 80, 73, 83, 78, 82, 94, 72, 78, 78, 83, 80, 91, 91, 80, 84, 76, 84, \n",
    "                       72, 76, 84, 93, 88, 77, 88, 76, 72, 84, 80, 91, 78, 86, 82, 86, 86, 86, 72, 82, 72, 76, \n",
    "                       94, 76, 100, 91, 84, 93, 84, 80, 72, 80, 78, 86, 78]))\n",
    "print(\"Moyenne Equipe 1 : \", e1s4VSs4b.mean())\n",
    "\n",
    "#Total sur  100  parties pour l'Equipe 2 :\n",
    "e2s4VSs4f = np.array(([80, 74, 89, 74, 91, 80, 72, 113, 72, 71, 72, 91, 88, 90, 89, 122, 113, 89, 72, 74, 122, \n",
    "                       94, 94, 71, 94, 96, 94, 94, 90, 81, 94, 100, 113, 100, 89, 90, 80, 100, 96, 90, 96, 81, \n",
    "                       93, 83, 100, 103, 80, 72, 96, 91, 92, 122, 92, 101, 80, 94, 94, 92, 109, 127, 127, 109, \n",
    "                       113, 80, 100, 80, 80, 100, 88, 100, 97, 100, 80, 80, 100, 90, 72, 94, 93, 82, 93, 93, 71, \n",
    "                       80, 92, 80, 80, 101, 80, 72, 72, 74, 88, 100, 90, 80, 90, 122, 93, 122]))\n",
    "print(\"Moyenne Equipe 2 : \", e2s4VSs4f.mean())\n",
    "\n",
    "v1, v2 = nbPartiesGagnees(e1s4VSs4b, e2s4VSs4f)\n",
    "print(\"Nombre de victoires de l'Equipe 1 : \", v1)\n",
    "print(\"Nombre de victoires de l'Equipe 2 : \", v2)"
   ]
  },
  {
   "cell_type": "markdown",
   "metadata": {},
   "source": [
    "<h3>Stratégie 4 VS Stratégie 4</h3>\n",
    "<h3>Equipe 2 commence</h3>\n",
    "<p>Echantillon de 100 parties</p>"
   ]
  },
  {
   "cell_type": "code",
   "execution_count": 24,
   "metadata": {},
   "outputs": [
    {
     "name": "stdout",
     "output_type": "stream",
     "text": [
      "Moyenne Equipe 1 :  80.8\n",
      "Moyenne Equipe 2 :  84.7\n",
      "Nombre de victoires de l'Equipe 1 :  59\n",
      "Nombre de victoires de l'Equipe 2 :  36\n"
     ]
    }
   ],
   "source": [
    "#Total sur  100  parties pour l'Equipe 1 :  \n",
    "e1s4VSs4f = np.array(([86, 76, 74, 78, 73, 83, 82, 99, 82, 95, 78, 74, 76, 74, 82, 83, 81,\n",
    "       74, 74, 83, 82, 78, 82, 74, 78, 82, 86, 86, 99, 81, 76, 83, 83, 86,\n",
    "       86, 76, 81, 82, 78, 95, 74, 78, 74, 75, 76, 73, 81, 86, 76, 82, 76,\n",
    "       78, 78, 78, 73, 86, 78, 95, 95, 78, 75, 82, 82, 86, 82, 75, 76, 76,\n",
    "       95, 82, 75, 74, 74, 82, 82, 82, 75, 99, 82, 78, 86, 82, 76, 78, 81,\n",
    "       86, 82, 76, 76, 73, 76, 99, 82, 78, 73, 78, 76, 99, 82, 76]))\n",
    "print(\"Moyenne Equipe 1 : \", e1s4VSs4f.mean())\n",
    "\n",
    "#Total sur  100  parties pour l'Equipe 2 :\n",
    "e2s4VSs4b = np.array(([87, 94, 94, 78, 78, 85, 81, 101, 85, 85, 85, 78, 87, 78, 116, 87, \n",
    "                       87, 71, 87, 72, 72, 78, 71, 84, 87, 85, 72, 101, 80, 72, 72, 78, \n",
    "                       80, 72, 71, 78, 94, 87, 101, 84, 84, 101, 89, 84, 85, 84, 81, 89, \n",
    "                       80, 80, 81, 84, 78, 72, 72, 89, 71, 94, 78, 87, 78, 84, 80, 85, 71, \n",
    "                       81, 87, 78, 101, 101, 85, 87, 71, 72, 85, 81, 101, 94, 78, 89, 84, \n",
    "                       78, 89, 71, 116, 71, 84, 116, 116, 101, 84, 116, 72, 71, 78, 78, 71, 101, 101, 85]))\n",
    "print(\"Moyenne Equipe 2 : \", e2s4VSs4b.mean())\n",
    "\n",
    "v1, v2 = nbPartiesGagnees(e1s4VSs4f, e2s4VSs4b)\n",
    "print(\"Nombre de victoires de l'Equipe 1 : \", v1)\n",
    "print(\"Nombre de victoires de l'Equipe 2 : \", v2)"
   ]
  },
  {
   "cell_type": "markdown",
   "metadata": {},
   "source": [
    "<h3>Conclusion / Remarques</h3>\n",
    "<p>\n",
    "Ici, l'équipe 1 qui est en haut de la carte est très avantagée pour le match miroir.\n",
    "</p>"
   ]
  },
  {
   "cell_type": "markdown",
   "metadata": {},
   "source": [
    "<h3>Stratégie 4 VS Stratégie 2</h3>\n",
    "<h3>Equipe 1 (stratégie 4) commence</h3>\n",
    "<p>Echantillon de 100 parties</p>"
   ]
  },
  {
   "cell_type": "code",
   "execution_count": 25,
   "metadata": {},
   "outputs": [
    {
     "name": "stdout",
     "output_type": "stream",
     "text": [
      "Moyenne Equipe 1 :  80.3\n",
      "Moyenne Equipe 2 :  91.95\n",
      "Nombre de victoires de l'Equipe 1 :  72\n",
      "Nombre de victoires de l'Equipe 2 :  28\n"
     ]
    }
   ],
   "source": [
    "#Total sur  100  parties pour l'Equipe 1 :  \n",
    "e1s4VSs2b = np.array(([83, 81, 71, 82, 81, 72, 71, 82, 73, 82, 99, 82, 86, 83, 72, 78, \n",
    "                       84, 77, 81, 81, 81, 81, 72, 82, 81, 73, 81, 81, 87, 78, 81, 73, \n",
    "                       82, 87, 81, 87, 72, 81, 99, 82, 71, 81, 99, 71, 86, 87, 71, 81, \n",
    "                       83, 81, 87, 71, 71, 99, 87, 78, 83, 73, 73, 86, 71, 81, 99, 82, \n",
    "                       79, 81, 86, 81, 77, 71, 79, 83, 78, 78, 86, 71, 79, 71, 71, 71, \n",
    "                       84, 84, 87, 71, 77, 81, 87, 72, 77, 82, 77, 81, 79, 84, 71, 79, \n",
    "                       87, 82, 84, 87]))\n",
    "print(\"Moyenne Equipe 1 : \", e1s4VSs2b.mean())\n",
    "\n",
    "#Total sur  100  parties pour l'Equipe 2 :\n",
    "e2s2VSs4f = np.array(([78, 103, 98, 98, 79, 78, 88, 110, 87, 110, 78, 79, 98, 78, 87, \n",
    "                       103, 79, 87, 90, 78, 103, 103, 103, 78, 103, 90, 91, 114, 80, \n",
    "                       103, 114, 79, 90, 78, 114, 80, 80, 79, 91, 90, 110, 79, 87, 80, \n",
    "                       110, 91, 88, 87, 87, 79, 108, 97, 110, 88, 79, 103, 98, 80, 90, \n",
    "                       87, 79, 79, 97, 87, 78, 108, 80, 80, 78, 110, 110, 87, 80, 80, \n",
    "                       79, 108, 110, 97, 108, 78, 87, 108, 97, 79, 98, 114, 80, 110, \n",
    "                       88, 97, 114, 79, 88, 103, 91, 103, 91, 79, 79, 110]))\n",
    "print(\"Moyenne Equipe 2 : \", e2s2VSs4f.mean())\n",
    "\n",
    "v1, v2 = nbPartiesGagnees(e1s4VSs2b, e2s2VSs4f)\n",
    "print(\"Nombre de victoires de l'Equipe 1 : \", v1)\n",
    "print(\"Nombre de victoires de l'Equipe 2 : \", v2)"
   ]
  },
  {
   "cell_type": "markdown",
   "metadata": {},
   "source": [
    "<h3>Stratégie 4 VS Stratégie 2</h3>\n",
    "<h3>Equipe 2 (stratégie 2) commence</h3>\n",
    "<p>Echantillon de 100 parties</p>"
   ]
  },
  {
   "cell_type": "code",
   "execution_count": 27,
   "metadata": {},
   "outputs": [
    {
     "name": "stdout",
     "output_type": "stream",
     "text": [
      "Moyenne Equipe 1 :  80.15\n",
      "Moyenne Equipe 2 :  91.0\n",
      "Nombre de victoires de l'Equipe 1 :  73\n",
      "Nombre de victoires de l'Equipe 2 :  25\n"
     ]
    }
   ],
   "source": [
    "#Total sur  100  parties pour l'Equipe 1 :  \n",
    "e1s4VSs2f = np.array(([81, 77, 84, 74, 77, 74, 89, 81, 74, 80, 87, 81, 89, 74, 80, 82, \n",
    "                       80, 82, 82, 80, 74, 74, 74, 86, 80, 82, 89, 74, 86, 82, 74, 81, \n",
    "                       84, 77, 82, 81, 89, 84, 89, 74, 74, 80, 81, 80, 72, 81, 87, 72, \n",
    "                       74, 82, 81, 74, 87, 87, 82, 86, 86, 87, 74, 72, 89, 74, 82, 89, \n",
    "                       81, 74, 80, 86, 84, 80, 74, 74, 82, 81, 89, 81, 89, 82, 77, 72, \n",
    "                       80, 84, 74, 82, 82, 74, 74, 82, 81, 81, 74, 82, 81, 74, 74, 77, \n",
    "                       81, 74, 72, 89]))\n",
    "print(\"Moyenne Equipe 1 : \", e1s4VSs2f.mean())\n",
    "\n",
    "#Total sur  100  parties pour l'Equipe 2 :\n",
    "e2s2VSs4b = np.array(([79, 69, 112, 77, 77, 75, 116, 89, 94, 102, 69, 79, 94, 112, 95, \n",
    "                       102, 69, 112, 85, 95, 75, 69, 85, 79, 89, 75, 99, 85, 77, 80, 99, \n",
    "                       89, 102, 69, 94, 112, 69, 99, 69, 102, 80, 80, 89, 112, 77, 89, \n",
    "                       80, 85, 75, 80, 89, 102, 75, 116, 112, 85, 116, 116, 102, 112, \n",
    "                       116, 75, 89, 75, 116, 69, 102, 116, 94, 85, 85, 116, 102, 85, \n",
    "                       112, 69, 75, 116, 95, 116, 99, 112, 69, 89, 85, 77, 102, 75, \n",
    "                       102, 95, 112, 89, 94, 85, 89, 95, 79, 75, 99, 79]))\n",
    "print(\"Moyenne Equipe 2 : \", e2s2VSs4b.mean())\n",
    "\n",
    "v1, v2 = nbPartiesGagnees(e1s4VSs2f, e2s2VSs4b)\n",
    "print(\"Nombre de victoires de l'Equipe 1 : \", v1)\n",
    "print(\"Nombre de victoires de l'Equipe 2 : \", v2)"
   ]
  },
  {
   "cell_type": "markdown",
   "metadata": {},
   "source": [
    "<h3>Stratégie 2 VS Stratégie 4</h3>\n",
    "<h3>Equipe 1 (stratégie 2) commence</h3>\n",
    "<p>Echantillon de 100 parties</p>"
   ]
  },
  {
   "cell_type": "code",
   "execution_count": 28,
   "metadata": {},
   "outputs": [
    {
     "name": "stdout",
     "output_type": "stream",
     "text": [
      "Moyenne Equipe 1 :  87.7\n",
      "Moyenne Equipe 2 :  80.2\n",
      "Nombre de victoires de l'Equipe 1 :  25\n",
      "Nombre de victoires de l'Equipe 2 :  73\n"
     ]
    }
   ],
   "source": [
    "#Total sur  100  parties pour l'Equipe 1 :  \n",
    "e1s2VSs4b = np.array(([98, 79, 84, 84, 81, 85, 86, 85, 88, 86, 88, 97, 84, 90, 93, 85, 85, 85, 86, 85, \n",
    "                       79, 90, 90, 86, 90, 88, 86, 90, 85, 98, 86, 93, 98, 97, 86, 90, 79, 85, 88, 85, \n",
    "                       85, 85, 81, 85, 90, 84, 88, 93, 93, 85, 94, 88, 79, 85, 84, 85, 97, 85, 81, 85, \n",
    "                       81, 86, 90, 94, 85, 81, 85, 85, 94, 90, 90, 85, 88, 85, 88, 94, 85, 90, 86, 98, \n",
    "                       85, 85, 88, 85, 85, 86, 85, 90, 94, 90, 97, 90, 90, 97, 85, 85, 98, 79, 88, 93]))\n",
    "print(\"Moyenne Equipe 1 : \", e1s2VSs4b.mean())\n",
    "\n",
    "#Total sur  100  parties pour l'Equipe 2 :\n",
    "e2s4VSs1f = np.array(([72, 91, 72, 95, 89, 72, 72, 89, 85, 89, 72, 91, 72, 88, 71, 71, 71, 89, 91, 76, \n",
    "                       88, 89, 71, 75, 88, 71, 71, 95, 71, 85, 71, 72, 85, 71, 72, 71, 88, 72, 95, 71, \n",
    "                       71, 85, 95, 71, 72, 88, 72, 75, 89, 71, 71, 95, 95, 95, 95, 85, 72, 72, 95, 75, \n",
    "                       76, 89, 89, 88, 72, 72, 71, 88, 88, 71, 89, 95, 89, 72, 71, 89, 72, 72, 72, 72, \n",
    "                       72, 76, 89, 89, 72, 75, 76, 88, 71, 72, 89, 75, 89, 72, 71, 91, 88, 76, 72, 91]))\n",
    "print(\"Moyenne Equipe 2 : \", e2s4VSs1f.mean())\n",
    "\n",
    "v1, v2 = nbPartiesGagnees(e1s2VSs4b, e2s4VSs1f)\n",
    "print(\"Nombre de victoires de l'Equipe 1 : \", v1)\n",
    "print(\"Nombre de victoires de l'Equipe 2 : \", v2)"
   ]
  },
  {
   "cell_type": "markdown",
   "metadata": {},
   "source": [
    "<h3>Stratégie 2 VS Stratégie 4</h3>\n",
    "<h3>Equipe 2 (stratégie 4) commence</h3>\n",
    "<p>Echantillon de 100 parties</p>"
   ]
  },
  {
   "cell_type": "code",
   "execution_count": 29,
   "metadata": {},
   "outputs": [
    {
     "name": "stdout",
     "output_type": "stream",
     "text": [
      "Moyenne Equipe 1 :  86.85\n",
      "Moyenne Equipe 2 :  86.6\n",
      "Nombre de victoires de l'Equipe 1 :  52\n",
      "Nombre de victoires de l'Equipe 2 :  46\n"
     ]
    }
   ],
   "source": [
    "#Total sur  100  parties pour l'Equipe 1 :  \n",
    "e1s2VSs4f = np.array(([95, 92, 82, 87, 88, 81, 88, 87, 98, 95, 82, 95, 98, 97, 80, 95, 83, 92, 97, 80, 92, \n",
    "                       83, 81, 83, 98, 84, 81, 98, 91, 92, 95, 82, 83, 81, 82, 82, 95, 74, 82, 87, 97, 95, \n",
    "                       97, 84, 88, 77, 97, 74, 84, 76, 92, 76, 74, 82, 80, 87, 95, 95, 98, 77, 84, 82, 88, \n",
    "                       82, 91, 82, 98, 83, 80, 91, 77, 74, 91, 76, 98, 82, 77, 87, 98, 95, 74, 82, 80, 95, \n",
    "                       82, 76, 91, 77, 95, 88, 95, 81, 82, 98, 95, 84, 98, 82, 76, 95]))\n",
    "print(\"Moyenne Equipe 1 : \", e1s2VSs4f.mean())\n",
    "\n",
    "#Total sur  100  parties pour l'Equipe 2 :\n",
    "e2s4VSs1b = np.array(([85, 79, 71, 86, 83, 80, 80, 83, 71, 79, 86, 115, 103, 71, 103, 85, 72, 92, 86, 86, 86, \n",
    "                       71, 103, 79, 103, 103, 86, 115, 86, 86, 71, 103, 115, 71, 96, 80, 85, 79, 72, 72, 103, \n",
    "                       86, 86, 83, 72, 85, 86, 115, 71, 96, 96, 71, 79, 71, 71, 85, 103, 83, 71, 92, 115, 96, \n",
    "                       86, 79, 85, 71, 103, 96, 80, 79, 83, 86, 71, 86, 86, 85, 92, 71, 103, 103, 86, 86, 85, \n",
    "                       86, 103, 80, 85, 103, 92, 92, 103, 79, 85, 71, 103, 86, 86, 79, 72, 79]))\n",
    "print(\"Moyenne Equipe 2 : \", e2s4VSs1b.mean())\n",
    "\n",
    "v1, v2 = nbPartiesGagnees(e1s2VSs4f, e2s4VSs4f)\n",
    "print(\"Nombre de victoires de l'Equipe 1 : \", v1)\n",
    "print(\"Nombre de victoires de l'Equipe 2 : \", v2)"
   ]
  },
  {
   "cell_type": "markdown",
   "metadata": {},
   "source": [
    "<h3>Conclusion / Remarques</h3>\n",
    "<p>\n",
    "Contre la stratégie 2, la stratégie 4 gagne facilement lorsqu'elle se situe en haut de la carte. Toutefois lorsqu'elle se situe en bas, elle ne gagne (la plupart du temps) que lorsqu'elle ne commence pas, sinon cela est légèrement en faveur de la stratégie 2.\n",
    "</p>"
   ]
  },
  {
   "cell_type": "markdown",
   "metadata": {},
   "source": [
    "<h3>Stratégie 4 VS Stratégie 1</h3>\n",
    "<h3>Equipe 1 (stratégie 4) commence</h3>\n",
    "<p>Echantillon de 100 parties</p>"
   ]
  },
  {
   "cell_type": "code",
   "execution_count": 30,
   "metadata": {},
   "outputs": [
    {
     "name": "stdout",
     "output_type": "stream",
     "text": [
      "Moyenne Equipe 1 :  78.45\n",
      "Moyenne Equipe 2 :  82.6\n",
      "Nombre de victoires de l'Equipe 1 :  57\n",
      "Nombre de victoires de l'Equipe 2 :  37\n"
     ]
    }
   ],
   "source": [
    "#Total sur  100  parties pour l'Equipe 1 :  \n",
    "e1s4VSs1b = np.array(([75, 70, 86, 82, 79, 86, 71, 79, 70, 70, 70, 76, 70, 71, 86, 86, 86, 82, 70, 71, 82, \n",
    "                       76, 86, 82, 79, 86, 70, 75, 86, 86, 82, 86, 86, 80, 79, 79, 86, 82, 71, 75, 82, 86, \n",
    "                       86, 75, 82, 71, 80, 70, 82, 70, 71, 82, 80, 70, 70, 86, 75, 82, 71, 70, 70, 70, 70, \n",
    "                       86, 70, 75, 82, 75, 70, 86, 86, 86, 70, 75, 70, 86, 76, 86, 82, 71, 86, 75, 86, 80, \n",
    "                       86, 86, 86, 82, 82, 86, 86, 80, 76, 71, 70, 75, 86, 76, 71, 86]))\n",
    "print(\"Moyenne Equipe 1 : \", e1s4VSs1b.mean())\n",
    "\n",
    "#Total sur  100  parties pour l'Equipe 2 :\n",
    "e2s1VSs4f = np.array(([72, 90, 76, 80, 80, 74, 90, 78, 80, 86, 92, 72, 78, 86, 86, 90, 74, 80, 72, 80, 92, \n",
    "                       76, 78, 86, 78, 90, 92, 74, 76, 90, 78, 76, 78, 98, 78, 74, 86, 80, 78, 78, 92, 84, \n",
    "                       90, 92, 74, 92, 92, 90, 74, 90, 76, 98, 80, 90, 76, 84, 92, 86, 78, 90, 78, 80, 78, \n",
    "                       90, 92, 76, 74, 76, 90, 90, 92, 78, 90, 78, 98, 86, 74, 80, 76, 78, 78, 84, 98, 72, \n",
    "                       84, 78, 84, 80, 86, 78, 74, 86, 74, 76, 72, 78, 86, 98, 90, 78]))\n",
    "print(\"Moyenne Equipe 2 : \", e2s1VSs4f.mean())\n",
    "\n",
    "v1, v2 = nbPartiesGagnees(e1s4VSs1b, e2s1VSs4f)\n",
    "print(\"Nombre de victoires de l'Equipe 1 : \", v1)\n",
    "print(\"Nombre de victoires de l'Equipe 2 : \", v2)"
   ]
  },
  {
   "cell_type": "markdown",
   "metadata": {},
   "source": [
    "<h3>Stratégie 4 VS Stratégie 1</h3>\n",
    "<h3>Equipe 2 (stratégie 1) commence</h3>\n",
    "<p>Echantillon de 100 parties</p>"
   ]
  },
  {
   "cell_type": "code",
   "execution_count": 31,
   "metadata": {},
   "outputs": [
    {
     "name": "stdout",
     "output_type": "stream",
     "text": [
      "Moyenne Equipe 1 :  76.5\n",
      "Moyenne Equipe 2 :  91.34\n",
      "Nombre de victoires de l'Equipe 1 :  78\n",
      "Nombre de victoires de l'Equipe 2 :  21\n"
     ]
    }
   ],
   "source": [
    "#Total sur  100  parties pour l'Equipe 1 :  \n",
    "e1s4VSs1f = np.array(([83, 70, 70, 70, 86, 79, 70, 79, 70, 79, 83, 70, 70, 82, 79, 79, 79, 70, 82, 75, 79, \n",
    "                       86, 82, 70, 70, 79, 70, 75, 83, 70, 75, 79, 82, 79, 79, 79, 70, 79, 70, 82, 79, 79, \n",
    "                       79, 70, 75, 79, 86, 75, 70, 70, 70, 83, 82, 79, 70, 70, 75, 70, 86, 70, 79, 70, 82, \n",
    "                       70, 82, 70, 86, 83, 70, 75, 70, 82, 70, 79, 79, 79, 75, 79, 70, 83, 79, 79, 70, 70, \n",
    "                       79, 70, 79, 82, 75, 75, 79, 83, 83, 79, 70, 79, 70, 83, 70, 83]))\n",
    "print(\"Moyenne Equipe 1 : \", e1s4VSs1f.mean())\n",
    "\n",
    "#Total sur  100  parties pour l'Equipe 2 :\n",
    "e2s1VSs4b = np.array(([82, 74, 94, 74, 76, 94, 82, 78, 94, 78, 76, 84, 76, 94, 94, 74, 94, 76, 94, 78, 94, 94, \n",
    "                       94, 92, 76, 78, 94, 76, 92, 94, 74, 80, 82, 94, 94, 78, 84, 94, 84, 90, 78, 94, 80, 80, \n",
    "                       92, 92, 94, 82, 78, 78, 80, 92, 90, 76, 74, 94, 74, 98, 80, 80, 80, 92, 98, 80, 94, 92, \n",
    "                       90, 94, 80, 94, 74, 94, 94, 78, 90, 80, 94, 90, 76, 76, 76, 76, 92, 98, 74, 74, 98, 76, \n",
    "                       78, 76, 98, 82, 84, 94, 76, 76, 92, 92, 74, 84]))\n",
    "print(\"Moyenne Equipe 2 : \", e2s4VSs4f.mean())\n",
    "\n",
    "v1, v2 = nbPartiesGagnees(e1s4VSs1f, e2s1VSs4b)\n",
    "print(\"Nombre de victoires de l'Equipe 1 : \", v1)\n",
    "print(\"Nombre de victoires de l'Equipe 2 : \", v2)"
   ]
  },
  {
   "cell_type": "markdown",
   "metadata": {},
   "source": [
    "<h3>Stratégie 1 VS Stratégie 4</h3>\n",
    "<h3>Equipe 1 (stratégie 1) commence</h3>\n",
    "<p>Echantillon de 100 parties</p>"
   ]
  },
  {
   "cell_type": "code",
   "execution_count": 32,
   "metadata": {},
   "outputs": [
    {
     "name": "stdout",
     "output_type": "stream",
     "text": [
      "Moyenne Equipe 1 :  90.0\n",
      "Moyenne Equipe 2 :  87.9\n",
      "Nombre de victoires de l'Equipe 1 :  47\n",
      "Nombre de victoires de l'Equipe 2 :  53\n"
     ]
    }
   ],
   "source": [
    "#Total sur  100  parties pour l'Equipe 1 :  \n",
    "e1s1VSs4b = np.array(([84, 100, 100, 80, 98, 98, 98, 90, 100, 86, 84, 80, 90, 98, 90, 88, 84, 90, 98, 88, 96, \n",
    "                       88, 80, 82, 88, 98, 98, 82, 98, 86, 80, 84, 88, 80, 88, 86, 98, 80, 98, 96, 90, 88, 98, \n",
    "                       100, 90, 80, 96, 82, 86, 90, 80, 82, 80, 96, 98, 90, 88, 98, 88, 80, 96, 88, 90, 90, 90, \n",
    "                       80, 98, 90, 82, 98, 88, 84, 88, 100, 88, 98, 88, 98, 90, 98, 98, 98, 80, 98, 98, 88, 88, \n",
    "                       88, 80, 80, 88, 80, 98, 90, 90, 88, 98, 88, 86, 98]))\n",
    "print(\"Moyenne Equipe 1 : \", e1s1VSs4b.mean())\n",
    "\n",
    "#Total sur  100  parties pour l'Equipe 2 :\n",
    "e2s4VSs1f = np.array(([90, 90, 90, 90, 71, 71, 85, 77, 101, 91, 85, 70, 71, 91, 91, 114, 114, 71, 71, 91, 70, \n",
    "                       85, 71, 90, 71, 115, 77, 91, 115, 85, 85, 90, 70, 91, 114, 91, 71, 91, 71, 77, 91, 90, \n",
    "                       85, 114, 85, 91, 86, 90, 115, 101, 70, 114, 86, 71, 85, 86, 85, 114, 90, 115, 70, 70, \n",
    "                       71, 85, 85, 90, 91, 91, 71, 70, 71, 91, 115, 91, 70, 71, 101, 101, 114, 90, 70, 85, 90, \n",
    "                       86, 90, 114, 101, 91, 77, 85, 71, 90, 114, 114, 86, 77, 85, 90, 70, 85]))\n",
    "print(\"Moyenne Equipe 2 : \", e2s4VSs1f.mean())\n",
    "\n",
    "v1, v2 = nbPartiesGagnees(e1s1VSs4b, e2s4VSs1f)\n",
    "print(\"Nombre de victoires de l'Equipe 1 : \", v1)\n",
    "print(\"Nombre de victoires de l'Equipe 2 : \", v2)"
   ]
  },
  {
   "cell_type": "markdown",
   "metadata": {},
   "source": [
    "<h3>Stratégie 1 VS Stratégie 4</h3>\n",
    "<h3>Equipe 2 (stratégie 4) commence</h3>\n",
    "<p>Echantillon de 100 parties</p>"
   ]
  },
  {
   "cell_type": "code",
   "execution_count": 33,
   "metadata": {},
   "outputs": [
    {
     "name": "stdout",
     "output_type": "stream",
     "text": [
      "Moyenne Equipe 1 :  87.8\n",
      "Moyenne Equipe 2 :  81.3\n",
      "Nombre de victoires de l'Equipe 1 :  22\n",
      "Nombre de victoires de l'Equipe 2 :  77\n"
     ]
    }
   ],
   "source": [
    "#Total sur  100  parties pour l'Equipe 1 :  \n",
    "e1s1VSs4f = np.array(([90, 100, 88, 92, 88, 94, 82, 86, 82, 82, 92, 86, 88, 86, 78, 94, 78, 88, 86, 82, 92, \n",
    "                       86, 82, 82, 80, 100, 92, 86, 92, 82, 80, 80, 86, 94, 94, 88, 90, 94, 86, 94, 82, 90, \n",
    "                       80, 82, 90, 92, 104, 94, 86, 100, 92, 80, 92, 104, 80, 86, 82, 90, 78, 78, 82, 80, 86, \n",
    "                       92, 78, 78, 88, 92, 78, 94, 88, 94, 88, 94, 100, 78, 104, 88, 88, 94, 78, 86, 86, 86, \n",
    "                       94, 82, 80, 86, 94, 82, 104, 100, 82, 80, 104, 94, 82, 94, 80, 78]))\n",
    "print(\"Moyenne Equipe 1 : \", e1s1VSs4f.mean())\n",
    "\n",
    "#Total sur  100  parties pour l'Equipe 2 :\n",
    "e2s4VSs1b = np.array(([114, 92, 85, 85, 77, 114, 71, 77, 85, 70, 85, 85, 114, 77, 85, 70, 77, 114, 72, 85, \n",
    "                       70, 85, 114, 85, 114, 85, 71, 114, 77, 72, 70, 85, 71, 71, 70, 70, 77, 70, 71, 77, \n",
    "                       85, 85, 114, 70, 70, 70, 85, 70, 71, 85, 114, 77, 77, 71, 85, 85, 77, 85, 71, 72, 72, \n",
    "                       70, 85, 85, 71, 85, 85, 92, 85, 85, 70, 72, 70, 92, 70, 71, 85, 71, 114, 71, 77, 85, \n",
    "                       85, 70, 71, 77, 85, 70, 71, 92, 70, 71, 77, 77, 77, 85, 70, 92, 70, 85]))\n",
    "print(\"Moyenne Equipe 2 : \", e2s4VSs1b.mean())\n",
    "\n",
    "v1, v2 = nbPartiesGagnees(e1s1VSs4f, e2s4VSs1b)\n",
    "print(\"Nombre de victoires de l'Equipe 1 : \", v1)\n",
    "print(\"Nombre de victoires de l'Equipe 2 : \", v2)"
   ]
  },
  {
   "cell_type": "markdown",
   "metadata": {},
   "source": [
    "<h3>Conclusion / Remarques</h3>\n",
    "<p>\n",
    "\n",
    "</p>"
   ]
  },
  {
   "cell_type": "markdown",
   "metadata": {},
   "source": [
    "<h2>Séquence 5</h2>\n",
    "<h4>Discussion autour de la Stratégie 3, MinMax :</h4>\n",
    "    <ul>\n",
    "\n",
    "<p><li> Tout d'abord, nous avons fait le choix de laisser la possibilitée aux équipes de ne pas bouger un de leur joueur, ce qui est assez courant puisqu'ils restent sur place quand ça leur permet de bloquer un chemin adverse et donc le faire détourner et prendre un autre chemin. </li>\n",
    "   <li> Malheureusement, le fait de rajouter cette possibilitée rend l'algorithme encore plus lent qu'il ne l'est déjà, et même avec la alpha/bêta pruning, nous permettant d'éliminer des branches de l'arbre si elle ne seront pas regardées, on ne parvient pas à descendre à une profondeur très élevée.</li>\n",
    "   <li> Voici une moyenne des temps de réponses de MinMax selon la profondeur : </li>\n",
    "       <ol>\n",
    "            <li> profondeur = 1 : Entre 2 et 3 secondes en moyenne pour l'Equipe </li>\n",
    "            <li> profondeur = 2 : Entre 8 et 10 minutes en moyenne pour l'Equipe </li>\n",
    "            <li> profondeur = 3 : Plus de 20 minutes en moyenne pour trouver le coup </li> </ol> <br/>\n",
    "    <li> On voit donc que cet algorithme est assez gourmand, et l'évaluation de son efficacité face aux autres algorithmes demandrait trop de temps, et une optimisation complète du code (Pourquoi pas mettre en place des tableaux pour sauvegarder les positions déjà connues, trier les positions possibles de la meilleure potentielle afin de faire un plus grand nombre d'alpha/bêta pruning) </li> \n",
    "    </p>"
   ]
  }
 ],
 "metadata": {
  "kernelspec": {
   "display_name": "Python 3",
   "language": "python",
   "name": "python3"
  },
  "language_info": {
   "codemirror_mode": {
    "name": "ipython",
    "version": 3
   },
   "file_extension": ".py",
   "mimetype": "text/x-python",
   "name": "python",
   "nbconvert_exporter": "python",
   "pygments_lexer": "ipython3",
   "version": "3.9.1"
  }
 },
 "nbformat": 4,
 "nbformat_minor": 4
}
